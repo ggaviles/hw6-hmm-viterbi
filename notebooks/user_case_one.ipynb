{
 "cells": [
  {
   "cell_type": "code",
   "execution_count": 163,
   "metadata": {},
   "outputs": [],
   "source": [
    "import numpy as np\n",
    "np.savez('../data/UserCase-One.npz',\n",
    "         prior_probabilities=np.array([0.67, 0.33]),\n",
    "         transition_probabilities=np.array([[0.8, 0.2], \n",
    "                                         [0.4, 0.6]]) ,\n",
    "         emission_probabilities=np.array([[0.8, 0.2],\n",
    "                                       [0.4, 0.6]]),\n",
    "         observation_states=np.array(['motivated', 'motivated', 'burned-out', 'burned-out', 'burned-out', 'motivated']),\n",
    "         hidden_states=np.array(['R01','R01', 'R21', 'R21', 'R21', 'R01']))\n",
    "data = np.load('../data/UserCase-One.npz')"
   ]
  },
  {
   "cell_type": "code",
   "execution_count": 164,
   "metadata": {},
   "outputs": [],
   "source": [
    "import numpy as np\n",
    "class HiddenMarkovModel:\n",
    "    \"\"\"_summary_\n",
    "    \"\"\"\n",
    "\n",
    "    def __init__(self, observation_states: np.ndarray, hidden_states: np.ndarray, prior_probabilities: np.ndarray, transition_probabilities: np.ndarray, emission_probabilities: np.ndarray):\n",
    "        \"\"\"_summary_\n",
    "\n",
    "        Args:\n",
    "            observation_states (np.ndarray): _description_\n",
    "            hidden_states (np.ndarray): _description_\n",
    "            prior_probabilities (np.ndarray): _description_\n",
    "            transition_probabilities (np.ndarray): _description_\n",
    "            emission_probabilities (np.ndarray): _description_\n",
    "        \"\"\"\n",
    "        self.observation_states = observation_states\n",
    "        self.observation_states_dict = {observation_state: observation_state_index \\\n",
    "                                  for observation_state_index, observation_state in enumerate(list(self.observation_states))}\n",
    "\n",
    "        self.hidden_states = hidden_states\n",
    "        self.hidden_states_dict = {hidden_state_index: hidden_state \\\n",
    "                                   for hidden_state_index, hidden_state in enumerate(list(self.hidden_states))}\n",
    "\n",
    "        self.prior_probabilities = prior_probabilities\n",
    "        self.transition_probabilities = transition_probabilities\n",
    "        self.emission_probabilities = emission_probabilities"
   ]
  },
  {
   "cell_type": "code",
   "execution_count": 220,
   "metadata": {},
   "outputs": [],
   "source": [
    "import copy\n",
    "import numpy as np\n",
    "class ViterbiAlgorithm:\n",
    "    \"\"\"_summary_\n",
    "    \"\"\"\n",
    "\n",
    "    def __init__(self, hmm_object):\n",
    "        \"\"\"_summary_\n",
    "\n",
    "        Args:\n",
    "            hmm_object (_type_): _description_\n",
    "        \"\"\"\n",
    "        self.hmm_object = hmm_object\n",
    "\n",
    "    def best_hidden_state_sequence(self, decode_observation_states: np.ndarray) -> np.ndarray:\n",
    "        \"\"\"_summary_\n",
    "\n",
    "        Args:\n",
    "            decode_observation_states (np.ndarray): _description_\n",
    "\n",
    "        Returns:\n",
    "            np.ndarray: _description_\n",
    "        \"\"\"\n",
    "\n",
    "        # Initialize path (i.e., np.arrays) to store the hidden sequence states returning the maximum probability\n",
    "        path = np.zeros((len(decode_observation_states),\n",
    "                         len(self.hmm_object.hidden_states))).astype('int')\n",
    "        path[0, :] = [hidden_state_index for hidden_state_index in range(len(self.hmm_object.hidden_states))]\n",
    "\n",
    "        best_path = np.zeros((len(decode_observation_states),\n",
    "                         len(self.hmm_object.hidden_states)))\n",
    "\n",
    "        # Compute initial delta:\n",
    "        # 1. Calculate the product of the prior and emission probabilities. This will be used to decode the first observation state.\n",
    "        # 2. Scale\n",
    "        #delta = np.zeros((len(decode_observation_states),\n",
    "                         #len(self.hmm_object.hidden_states)))\n",
    "\n",
    "        obs_decode = []\n",
    "        for i in range(len(self.hmm_object.observation_states)):\n",
    "            obs_decode_val = self.hmm_object.observation_states_dict.get(hmm_object.observation_states[i])\n",
    "            obs_decode.append(obs_decode_val)\n",
    "\n",
    "        decode_observation_states = obs_decode\n",
    "        #decode_observation_states = np.array(decode_observation_states)\n",
    "\n",
    "        delta = np.multiply(self.hmm_object.prior_probabilities, self.hmm_object.emission_probabilities)\n",
    "        delta = delta.squeeze()\n",
    "        delta = delta / np.sum(delta)  # Scale\n",
    "\n",
    "        path[:, 0] = np.multiply(self.hmm_object.prior_probabilities, self.hmm_object.emission_probabilities[:, decode_observation_states[0]])\n",
    "\n",
    "        # For each observation state to decode, select the hidden state sequence with the highest probability (i.e., Viterbi trellis)\n",
    "        for trellis_node in range(1, len(decode_observation_states)):\n",
    "\n",
    "            # TODO: comment the initialization, recursion, and termination steps\n",
    "\n",
    "            # product_of_delta_and_transition_emission = np.multiply(delta*self.hmm_object.transition_probabilities)\n",
    "\n",
    "            # Update delta and scale\n",
    "\n",
    "            # Select the hidden state sequence with the maximum probability\n",
    "\n",
    "            # Update best path\n",
    "            for hidden_state in range(len(self.hmm_object.hidden_states)):\n",
    "                temp_product = np.multiply(self.hmm_object.transition_probabilities[:, hidden_state], path[:, trellis_node - 1])\n",
    "                path[hidden_state, trellis_node] = np.max(temp_product) * self.hmm_object.emission_probabilities[hidden_state, decode_observation_states[trellis_node]]\n",
    "                best_path[hidden_state, trellis_node - 1] = np.argmax(temp_product)\n",
    "\n",
    "                \"\"\"\n",
    "                k = np.argmax(k in decode_observation_states[k, trellis_node - 1]\n",
    "                              * self.hmm_object.transition_probabilities[k, hidden_state]\n",
    "                              * self.hmm_object.emission_probabilities[hidden_state, trellis_node])\n",
    "                decode_observation_states[hidden_state, trellis_node] = decode_observation_states[k, trellis_node] \\\n",
    "                                                                        * self.hmm_object.transition_probabilities[k, hidden_state] \\\n",
    "                                                                        * self.hmm_object.emission_probabilities[hidden_state, trellis_node]\n",
    "\n",
    "                \"\"\"\n",
    "\n",
    "            # Set best hidden state sequence in the best_path np.ndarray THEN copy the best_path to path\n",
    "            path = best_path.copy()\n",
    "\n",
    "        # Select the last hidden state, given the best path (i.e., maximum probability)\n",
    "        best_hidden_state_path = np.zeros(len(decode_observation_states))\n",
    "        best_hidden_state_path[-1] = np.argmax(path[:, -1])\n",
    "        for n in range(len(decode_observation_states)-2, -1, -1):\n",
    "            best_hidden_state_path[n] = best_path[(best_hidden_state_path[n+1], n)]\n",
    "\n",
    "        for i in best_hidden_state_path:\n",
    "            best_hidden_state_path = self.hmm_object.hidden_states_dict[i]\n",
    "\n",
    "        best_hidden_state_path = np.array([best_hidden_state_path])\n",
    "\n",
    "        return best_hidden_state_path"
   ]
  },
  {
   "cell_type": "code",
   "execution_count": 221,
   "metadata": {},
   "outputs": [],
   "source": [
    "hmm_object = HiddenMarkovModel(data['observation_states'], data['hidden_states'], data['prior_probabilities'], data['transition_probabilities'], data['emission_probabilities'])"
   ]
  },
  {
   "cell_type": "code",
   "execution_count": 222,
   "outputs": [
    {
     "name": "stdout",
     "output_type": "stream",
     "text": [
      "{'motivated': 5, 'burned-out': 4}\n"
     ]
    }
   ],
   "source": [
    "print(hmm_object.observation_states_dict)"
   ],
   "metadata": {
    "collapsed": false
   }
  },
  {
   "cell_type": "code",
   "execution_count": 223,
   "outputs": [
    {
     "name": "stdout",
     "output_type": "stream",
     "text": [
      "['motivated' 'motivated' 'burned-out' 'burned-out' 'burned-out'\n",
      " 'motivated']\n",
      "motivated\n",
      "motivated\n",
      "burned-out\n",
      "burned-out\n",
      "burned-out\n",
      "motivated\n"
     ]
    }
   ],
   "source": [
    "print(hmm_object.observation_states)\n",
    "for i in hmm_object.observation_states:\n",
    "    print(i)"
   ],
   "metadata": {
    "collapsed": false
   }
  },
  {
   "cell_type": "code",
   "execution_count": 224,
   "outputs": [
    {
     "name": "stdout",
     "output_type": "stream",
     "text": [
      "[5, 5, 4, 4, 4, 5]\n"
     ]
    }
   ],
   "source": [
    "obs_decode = []\n",
    "for i in range(len(hmm_object.observation_states)):\n",
    "    obs_decode_val = hmm_object.observation_states_dict.get(hmm_object.observation_states[i])\n",
    "    obs_decode.append(obs_decode_val)\n",
    "print(obs_decode)"
   ],
   "metadata": {
    "collapsed": false
   }
  },
  {
   "cell_type": "code",
   "execution_count": 225,
   "outputs": [],
   "source": [
    "viterbi_instance = ViterbiAlgorithm(hmm_object)"
   ],
   "metadata": {
    "collapsed": false
   }
  },
  {
   "cell_type": "code",
   "execution_count": 225,
   "outputs": [],
   "source": [],
   "metadata": {
    "collapsed": false
   }
  },
  {
   "cell_type": "code",
   "execution_count": 226,
   "outputs": [
    {
     "ename": "IndexError",
     "evalue": "index 5 is out of bounds for axis 1 with size 2",
     "output_type": "error",
     "traceback": [
      "\u001B[0;31m---------------------------------------------------------------------------\u001B[0m",
      "\u001B[0;31mIndexError\u001B[0m                                Traceback (most recent call last)",
      "Cell \u001B[0;32mIn[226], line 1\u001B[0m\n\u001B[0;32m----> 1\u001B[0m \u001B[38;5;28mprint\u001B[39m(\u001B[43mviterbi_instance\u001B[49m\u001B[38;5;241;43m.\u001B[39;49m\u001B[43mbest_hidden_state_sequence\u001B[49m\u001B[43m(\u001B[49m\u001B[43mdata\u001B[49m\u001B[43m[\u001B[49m\u001B[38;5;124;43m'\u001B[39;49m\u001B[38;5;124;43mobservation_states\u001B[39;49m\u001B[38;5;124;43m'\u001B[39;49m\u001B[43m]\u001B[49m\u001B[43m)\u001B[49m)\n\u001B[1;32m      2\u001B[0m \u001B[38;5;28mprint\u001B[39m(hmm_object\u001B[38;5;241m.\u001B[39mobservation_states_dict)\n",
      "Cell \u001B[0;32mIn[220], line 51\u001B[0m, in \u001B[0;36mViterbiAlgorithm.best_hidden_state_sequence\u001B[0;34m(self, decode_observation_states)\u001B[0m\n\u001B[1;32m     48\u001B[0m delta \u001B[38;5;241m=\u001B[39m delta\u001B[38;5;241m.\u001B[39msqueeze()\n\u001B[1;32m     49\u001B[0m delta \u001B[38;5;241m=\u001B[39m delta \u001B[38;5;241m/\u001B[39m np\u001B[38;5;241m.\u001B[39msum(delta)  \u001B[38;5;66;03m# Scale\u001B[39;00m\n\u001B[0;32m---> 51\u001B[0m path[:, \u001B[38;5;241m0\u001B[39m] \u001B[38;5;241m=\u001B[39m np\u001B[38;5;241m.\u001B[39mmultiply(\u001B[38;5;28mself\u001B[39m\u001B[38;5;241m.\u001B[39mhmm_object\u001B[38;5;241m.\u001B[39mprior_probabilities, \u001B[38;5;28;43mself\u001B[39;49m\u001B[38;5;241;43m.\u001B[39;49m\u001B[43mhmm_object\u001B[49m\u001B[38;5;241;43m.\u001B[39;49m\u001B[43memission_probabilities\u001B[49m\u001B[43m[\u001B[49m\u001B[43m:\u001B[49m\u001B[43m,\u001B[49m\u001B[43m \u001B[49m\u001B[43mdecode_observation_states\u001B[49m\u001B[43m[\u001B[49m\u001B[38;5;241;43m0\u001B[39;49m\u001B[43m]\u001B[49m\u001B[43m]\u001B[49m)\n\u001B[1;32m     53\u001B[0m \u001B[38;5;66;03m# For each observation state to decode, select the hidden state sequence with the highest probability (i.e., Viterbi trellis)\u001B[39;00m\n\u001B[1;32m     54\u001B[0m \u001B[38;5;28;01mfor\u001B[39;00m trellis_node \u001B[38;5;129;01min\u001B[39;00m \u001B[38;5;28mrange\u001B[39m(\u001B[38;5;241m1\u001B[39m, \u001B[38;5;28mlen\u001B[39m(decode_observation_states)):\n\u001B[1;32m     55\u001B[0m \n\u001B[1;32m     56\u001B[0m     \u001B[38;5;66;03m# TODO: comment the initialization, recursion, and termination steps\u001B[39;00m\n\u001B[0;32m   (...)\u001B[0m\n\u001B[1;32m     63\u001B[0m \n\u001B[1;32m     64\u001B[0m     \u001B[38;5;66;03m# Update best path\u001B[39;00m\n",
      "\u001B[0;31mIndexError\u001B[0m: index 5 is out of bounds for axis 1 with size 2"
     ]
    }
   ],
   "source": [
    "print(viterbi_instance.best_hidden_state_sequence(data['observation_states']))\n",
    "print(hmm_object.observation_states_dict)"
   ],
   "metadata": {
    "collapsed": false
   }
  },
  {
   "cell_type": "code",
   "execution_count": 81,
   "metadata": {},
   "outputs": [],
   "source": [
    "prior_probabilities= np.array([0.67, 0.33]),\n",
    "transition_probabilities= np.array([[0.8, 0.2], [0.4, 0.6]]),\n",
    "emission_probabilities= np.array([[0.8, 0.2], [0.4, 0.6]]),\n",
    "observation_states= np.array(['motivated', 'motivated', 'burned-out', 'burned-out', 'burned-out', 'motivated']),\n",
    "hidden_states= np.array(['R01','R01', 'R21', 'R21', 'R21', 'R01'])"
   ]
  },
  {
   "cell_type": "code",
   "execution_count": 82,
   "metadata": {},
   "outputs": [
    {
     "name": "stdout",
     "output_type": "stream",
     "text": [
      "[[[0.536 0.066]\n",
      "  [0.268 0.198]]]\n"
     ]
    }
   ],
   "source": [
    "delta = np.multiply(prior_probabilities, emission_probabilities)\n",
    "print(delta)"
   ]
  },
  {
   "cell_type": "code",
   "execution_count": 83,
   "outputs": [],
   "source": [
    "delta = delta.squeeze()"
   ],
   "metadata": {
    "collapsed": false
   }
  },
  {
   "cell_type": "code",
   "execution_count": 84,
   "outputs": [
    {
     "data": {
      "text/plain": "(2, 2)"
     },
     "execution_count": 84,
     "metadata": {},
     "output_type": "execute_result"
    }
   ],
   "source": [
    "delta.shape"
   ],
   "metadata": {
    "collapsed": false
   }
  },
  {
   "cell_type": "code",
   "execution_count": 151,
   "outputs": [
    {
     "ename": "SyntaxError",
     "evalue": "incomplete input (305701024.py, line 1)",
     "output_type": "error",
     "traceback": [
      "\u001B[0;36m  Cell \u001B[0;32mIn[151], line 1\u001B[0;36m\u001B[0m\n\u001B[0;31m    decode_observation_states = list(observation_states_dict.keys()\u001B[0m\n\u001B[0m                                                                   ^\u001B[0m\n\u001B[0;31mSyntaxError\u001B[0m\u001B[0;31m:\u001B[0m incomplete input\n"
     ]
    }
   ],
   "source": [
    "decode_observation_states = list(observation_states_dict.keys())"
   ],
   "metadata": {
    "collapsed": false
   }
  },
  {
   "cell_type": "code",
   "execution_count": 100,
   "metadata": {},
   "outputs": [
    {
     "name": "stdout",
     "output_type": "stream",
     "text": [
      "6\n",
      "6\n",
      "[[0. 0. 0. 0. 0. 0.]\n",
      " [0. 0. 0. 0. 0. 0.]\n",
      " [0. 0. 0. 0. 0. 0.]\n",
      " [0. 0. 0. 0. 0. 0.]\n",
      " [0. 0. 0. 0. 0. 0.]\n",
      " [0. 0. 0. 0. 0. 0.]]\n",
      "[[0. 0.]\n",
      " [0. 0.]]\n"
     ]
    }
   ],
   "source": [
    "observation_states= np.array(['motivated', 'motivated', 'burned-out', 'burned-out', 'burned-out', 'motivated'])\n",
    "hidden_states= np.array(['R01','R01', 'R21', 'R21', 'R21', 'R01'])\n",
    "path = np.zeros((len(observation_states),\n",
    "                 len(hidden_states)))\n",
    "print(len(observation_states))\n",
    "print(len(hidden_states))\n",
    "print(path)"
   ]
  },
  {
   "cell_type": "code",
   "execution_count": 101,
   "metadata": {},
   "outputs": [],
   "source": [
    "path[0, :] = [hidden_state_index for hidden_state_index in range(len(hidden_states))]\n",
    "\n",
    "best_path = np.zeros((len(observation_states),\n",
    "                 len(hidden_states)))"
   ]
  },
  {
   "cell_type": "code",
   "execution_count": 102,
   "metadata": {},
   "outputs": [
    {
     "name": "stdout",
     "output_type": "stream",
     "text": [
      "[[0. 1. 2. 3. 4. 5.]\n",
      " [0. 0. 0. 0. 0. 0.]\n",
      " [0. 0. 0. 0. 0. 0.]\n",
      " [0. 0. 0. 0. 0. 0.]\n",
      " [0. 0. 0. 0. 0. 0.]\n",
      " [0. 0. 0. 0. 0. 0.]]\n"
     ]
    }
   ],
   "source": [
    "print(path)"
   ]
  },
  {
   "cell_type": "code",
   "execution_count": 103,
   "metadata": {},
   "outputs": [
    {
     "name": "stdout",
     "output_type": "stream",
     "text": [
      "[[0. 0. 0. 0. 0. 0.]\n",
      " [0. 0. 0. 0. 0. 0.]\n",
      " [0. 0. 0. 0. 0. 0.]\n",
      " [0. 0. 0. 0. 0. 0.]\n",
      " [0. 0. 0. 0. 0. 0.]\n",
      " [0. 0. 0. 0. 0. 0.]]\n"
     ]
    }
   ],
   "source": [
    "print(best_path)"
   ]
  },
  {
   "cell_type": "code",
   "execution_count": 58,
   "metadata": {},
   "outputs": [
    {
     "name": "stdout",
     "output_type": "stream",
     "text": [
      "[[1.03199635 0.87007543]]\n"
     ]
    }
   ],
   "source": [
    "print(np.sum(norm_delta, axis=2))"
   ]
  },
  {
   "cell_type": "code",
   "execution_count": 64,
   "metadata": {},
   "outputs": [],
   "source": [
    "row_sums = delta.sum(axis=1)\n",
    "new_matrix = delta / row_sums[:, np.newaxis]"
   ]
  },
  {
   "cell_type": "code",
   "execution_count": 65,
   "metadata": {},
   "outputs": [
    {
     "name": "stdout",
     "output_type": "stream",
     "text": [
      "[[[0.66666667 0.25      ]\n",
      "  [0.33333333 0.75      ]]]\n"
     ]
    }
   ],
   "source": [
    "print(new_matrix)"
   ]
  },
  {
   "cell_type": "code",
   "execution_count": 67,
   "metadata": {},
   "outputs": [
    {
     "data": {
      "text/plain": [
       "array([[1., 1.]])"
      ]
     },
     "execution_count": 67,
     "metadata": {},
     "output_type": "execute_result"
    }
   ],
   "source": [
    "np.sum(new_matrix, axis=1)"
   ]
  },
  {
   "cell_type": "code",
   "execution_count": 68,
   "metadata": {},
   "outputs": [
    {
     "data": {
      "text/plain": [
       "3"
      ]
     },
     "execution_count": 68,
     "metadata": {},
     "output_type": "execute_result"
    }
   ],
   "source": [
    "new_matrix.ndim"
   ]
  },
  {
   "cell_type": "code",
   "execution_count": null,
   "metadata": {},
   "outputs": [],
   "source": []
  }
 ],
 "metadata": {
  "kernelspec": {
   "display_name": "Python 3 (ipykernel)",
   "language": "python",
   "name": "python3"
  },
  "language_info": {
   "codemirror_mode": {
    "name": "ipython",
    "version": 3
   },
   "file_extension": ".py",
   "mimetype": "text/x-python",
   "name": "python",
   "nbconvert_exporter": "python",
   "pygments_lexer": "ipython3",
   "version": "3.11.1"
  }
 },
 "nbformat": 4,
 "nbformat_minor": 2
}
